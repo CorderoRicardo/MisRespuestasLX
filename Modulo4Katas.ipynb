{
 "cells": [
  {
   "cell_type": "code",
   "execution_count": 7,
   "metadata": {},
   "outputs": [
    {
     "data": {
      "text/plain": [
       "['Interesting facts about the Moon',\n",
       " \" The Moon is Earth's only satellite\",\n",
       " ' There are several interesting facts about the Moon and how it affects life here on Earth',\n",
       " ' \\nOn average, the Moon moves 4cm away from the Earth every year',\n",
       " ' This yearly drift is not significant enough to cause immediate effects on Earth',\n",
       " ' The highest daylight temperature of the Moon is 127 C',\n",
       " '']"
      ]
     },
     "execution_count": 7,
     "metadata": {},
     "output_type": "execute_result"
    }
   ],
   "source": [
    "\n",
    "\n",
    "text = \"\"\"Interesting facts about the Moon. The Moon is Earth's only satellite. There are several interesting facts about the Moon and how it affects life here on Earth. \n",
    "On average, the Moon moves 4cm away from the Earth every year. This yearly drift is not significant enough to cause immediate effects on Earth. The highest daylight temperature of the Moon is 127 C.\"\"\"\n",
    "\n",
    "texto_separado=text.split('.')\n",
    "\n",
    "texto_separado"
   ]
  },
  {
   "cell_type": "markdown",
   "metadata": {},
   "source": [
    "## palabras clave\n",
    "average, temperature y distance"
   ]
  },
  {
   "cell_type": "code",
   "execution_count": 21,
   "metadata": {},
   "outputs": [
    {
     "name": "stdout",
     "output_type": "stream",
     "text": [
      " \n",
      "On average, the Moon moves 4cm away from the Earth every year\n",
      " The highest daylight temperature of the Moon is 127 Celsius\n"
     ]
    }
   ],
   "source": [
    "for i in texto_separado:\n",
    "    if i.find('average')>-1 or i.find('distance') >-1:\n",
    "        print(i)\n",
    "    elif i.find('temperature')>-1:\n",
    "            j=i.replace('C','Celsius')\n",
    "            print(j)"
   ]
  },
  {
   "cell_type": "markdown",
   "metadata": {},
   "source": [
    "ejercicio 2"
   ]
  },
  {
   "cell_type": "code",
   "execution_count": 30,
   "metadata": {},
   "outputs": [
    {
     "name": "stdout",
     "output_type": "stream",
     "text": [
      "Gravity facts about Moon\n",
      "---------------------------------------------------------------\n",
      "Gravity on Moon: 1.6199999999999999\n",
      "Planet: Earth\n",
      "\n"
     ]
    }
   ],
   "source": [
    "# Datos con los que vas a trabajar\n",
    "name = \"Moon\"\n",
    "gravity = 0.00162 # in kms\n",
    "planet = \"Earth\"\n",
    "\n",
    "titulo=\"Gravity facts about {}\".format(name)\n",
    "barra='---------------------------------------------------------------'\n",
    "datos=titulo+'\\n'+barra+'\\nGravity on {}: '.format(name)+str(gravity*1000)+'\\nPlanet: {}'.format(planet)+'\\n'\n",
    "print(datos)"
   ]
  },
  {
   "cell_type": "code",
   "execution_count": 31,
   "metadata": {},
   "outputs": [
    {
     "name": "stdout",
     "output_type": "stream",
     "text": [
      "Gravity facts about Ganímedes\n",
      "---------------------------------------------------------------\n",
      "Gravity on Ganímedes: 1.4300000000000002\n",
      "Planet: Marte \n",
      "\n"
     ]
    }
   ],
   "source": [
    "planet = 'Marte '\n",
    "gravity = 0.00143\n",
    "name = 'Ganímedes'\n",
    "titulo=\"Gravity facts about {}\".format(name)\n",
    "datos=titulo+'\\n'+barra+'\\nGravity on {}: '.format(name)+str(gravity*1000)+'\\nPlanet: {}'.format(planet)+'\\n'\n",
    "print(datos)"
   ]
  }
 ],
 "metadata": {
  "interpreter": {
   "hash": "51727d6f6de0c9c3b9c6a7d7e737bd0212e227c5fae86936168ed13d26f4b171"
  },
  "kernelspec": {
   "display_name": "Python 3.9.10 64-bit",
   "language": "python",
   "name": "python3"
  },
  "language_info": {
   "codemirror_mode": {
    "name": "ipython",
    "version": 3
   },
   "file_extension": ".py",
   "mimetype": "text/x-python",
   "name": "python",
   "nbconvert_exporter": "python",
   "pygments_lexer": "ipython3",
   "version": "3.9.10"
  },
  "orig_nbformat": 4
 },
 "nbformat": 4,
 "nbformat_minor": 2
}
