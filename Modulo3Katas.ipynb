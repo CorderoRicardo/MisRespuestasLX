{
 "cells": [
  {
   "cell_type": "markdown",
   "metadata": {},
   "source": [
    "# Añadir el código necesario para crear una variable que guarde la velocidad del asteroide.\n",
    "# Escribe una expresión de prueba para calcular si necesita una advertencia.\n",
    "# Agregue las instrucciones que se ejecutarán si la expresión de prueba es true o false."
   ]
  },
  {
   "cell_type": "code",
   "execution_count": 7,
   "metadata": {},
   "outputs": [
    {
     "name": "stdout",
     "output_type": "stream",
     "text": [
      "¡Asteroide acercandose a la Tierra a una velocidad de 49km/s!\n"
     ]
    }
   ],
   "source": [
    "velocidadAsteroide=49\n",
    "\n",
    "if velocidadAsteroide>25:\n",
    "    print(\"¡Asteroide acercandose a la Tierra a una velocidad de \"+str(velocidadAsteroide)+\"km/s!\")\n",
    "else:\n",
    "    print(\"Ningun asteroide en velocidad critica detectado.\")\n"
   ]
  },
  {
   "cell_type": "code",
   "execution_count": 13,
   "metadata": {},
   "outputs": [
    {
     "name": "stdout",
     "output_type": "stream",
     "text": [
      "Ningun asteroide en velocidad critica detectado.\n"
     ]
    }
   ],
   "source": [
    "velocidadEntrada=19\n",
    "rayoDeLuz=False\n",
    "\n",
    "if velocidadEntrada>=20:\n",
    "    print(\"¡Asteroide entro a la atmosfera terreste a una velocidad de \"+str(velocidadEntrada)+\"km/s!\")\n",
    "    if rayoDeLuz:\n",
    "        print(\"Asteroide visible en el cielo, miren arriba.\")\n",
    "    else:\n",
    "        print(\"Sin novedades en el cielo.\")\n",
    "else:\n",
    "    print(\"Ningun asteroide en velocidad critica detectado.\")"
   ]
  },
  {
   "cell_type": "code",
   "execution_count": 2,
   "metadata": {},
   "outputs": [
    {
     "name": "stdout",
     "output_type": "stream",
     "text": [
      "¡Se ha detectado un asteroide viajando a una velocidad de 26km/s!\n",
      "La dimension del asteroide es de 14m, riesgo minimo.\n",
      "Sin anormalidades recientes.\n"
     ]
    }
   ],
   "source": [
    "dimensionAsteroide=14\n",
    "velocidadAsteroide=26\n",
    "velocidadEntrada=19\n",
    "rayoDeLuz=True\n",
    "\n",
    "if velocidadAsteroide>25:\n",
    "    print(\"¡Se ha detectado un asteroide viajando a una velocidad de \"+str(velocidadAsteroide)+\"km/s!\")\n",
    "    if dimensionAsteroide<=25:\n",
    "        print(\"La dimension del asteroide es de \"+str(dimensionAsteroide)+\"m, riesgo minimo.\")\n",
    "    elif dimensionAsteroide>25 and dimensionAsteroide<1000:\n",
    "        print(\"¡Asteroide potencialmente peligroso de \"+str(dimensionAsteroide)+\"m de largo!. Se recomienda tomar medidas.\")\n",
    "    else:\n",
    "        print(\"Asteroide masivo de \"+str(dimensionAsteroide)+\"m!\")\n",
    "else:\n",
    "    print(\"Ningun asteroide en velocidad critica detectado.\")\n",
    "\n",
    "if velocidadEntrada >=20:\n",
    "    print(\"Un asteroide ingreso a la atmosfera terrestre con una velocidad de \"+str(velocidadEntrada)+\"km/s\")\n",
    "    if rayoDeLuz:\n",
    "        print(\"Se genero un rayo de luz en el cielo.\")\n",
    "    else:\n",
    "        print(\"Sin novedades en el cielo\")\n",
    "else:\n",
    "    print(\"Sin anormalidades recientes.\")\n",
    "\n",
    "\n",
    "    \n",
    "\n",
    "\n",
    "    "
   ]
  }
 ],
 "metadata": {
  "interpreter": {
   "hash": "51727d6f6de0c9c3b9c6a7d7e737bd0212e227c5fae86936168ed13d26f4b171"
  },
  "kernelspec": {
   "display_name": "Python 3.9.10 64-bit",
   "language": "python",
   "name": "python3"
  },
  "language_info": {
   "codemirror_mode": {
    "name": "ipython",
    "version": 3
   },
   "file_extension": ".py",
   "mimetype": "text/x-python",
   "name": "python",
   "nbconvert_exporter": "python",
   "pygments_lexer": "ipython3",
   "version": "3.9.10"
  },
  "orig_nbformat": 4
 },
 "nbformat": 4,
 "nbformat_minor": 2
}
