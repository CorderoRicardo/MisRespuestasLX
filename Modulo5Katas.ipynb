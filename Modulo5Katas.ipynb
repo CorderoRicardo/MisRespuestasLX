{
 "cells": [
  {
   "cell_type": "markdown",
   "metadata": {},
   "source": [
    "# Modulo 5 Katas\n",
    "Ejercicio 1: Calcular la distancia entre dos planetas"
   ]
  },
  {
   "cell_type": "code",
   "execution_count": 1,
   "metadata": {},
   "outputs": [
    {
     "name": "stdout",
     "output_type": "stream",
     "text": [
      "Distancia en Km: 628949330\n",
      "Distancia en millas: 390577533.93\n"
     ]
    }
   ],
   "source": [
    "distanciaTierra=149597870\n",
    "distanciaJupiter=778547200\n",
    "\n",
    "diferencia=abs(distanciaTierra-distanciaJupiter)\n",
    "print(\"Distancia en Km: {}\".format(diferencia))\n",
    "diferencia=diferencia*0.621\n",
    "print(\"Distancia en millas: {}\".format(diferencia))"
   ]
  },
  {
   "cell_type": "markdown",
   "metadata": {},
   "source": [
    "Ejercicio 2: convierte cadenas en números y usa valores absolutos"
   ]
  },
  {
   "cell_type": "code",
   "execution_count": 3,
   "metadata": {},
   "outputs": [
    {
     "name": "stdout",
     "output_type": "stream",
     "text": [
      "Distancia en Km: 5030000\n",
      "Distancia en millas: 3123630.0\n"
     ]
    }
   ],
   "source": [
    "planeta1=input(\"¿Distancia del Sol a este planeta? \")\n",
    "plantea2=input(\"¿Distancia del Sol a este otro? \")\n",
    "distancia1=int(planeta1)\n",
    "distancia2=int(plantea2)\n",
    "\n",
    "resta=abs(distancia1-distancia2)\n",
    "print(\"Distancia en Km: {}\".format(resta))\n",
    "resta=resta*0.621\n",
    "print(\"Distancia en millas: {}\".format(resta))\n",
    "\n"
   ]
  }
 ],
 "metadata": {
  "interpreter": {
   "hash": "51727d6f6de0c9c3b9c6a7d7e737bd0212e227c5fae86936168ed13d26f4b171"
  },
  "kernelspec": {
   "display_name": "Python 3.9.10 64-bit",
   "language": "python",
   "name": "python3"
  },
  "language_info": {
   "codemirror_mode": {
    "name": "ipython",
    "version": 3
   },
   "file_extension": ".py",
   "mimetype": "text/x-python",
   "name": "python",
   "nbconvert_exporter": "python",
   "pygments_lexer": "ipython3",
   "version": "3.9.10"
  },
  "orig_nbformat": 4
 },
 "nbformat": 4,
 "nbformat_minor": 2
}
