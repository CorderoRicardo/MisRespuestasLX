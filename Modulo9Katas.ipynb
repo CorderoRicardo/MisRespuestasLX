{
 "cells": [
  {
   "cell_type": "markdown",
   "metadata": {},
   "source": [
    "# Modulo 9 Katas\n",
    "Ejercicio 1: Trabajar con argumentos en funciones"
   ]
  },
  {
   "cell_type": "code",
   "execution_count": 3,
   "metadata": {},
   "outputs": [
    {
     "name": "stdout",
     "output_type": "stream",
     "text": [
      "10.0\n"
     ]
    }
   ],
   "source": [
    "def gas(tank1,tank2,tank3):\n",
    "    sum=tank1+tank2+tank3\n",
    "    p=promedio(sum,3)\n",
    "    return p\n",
    "\n",
    "def promedio(sum,tanks):\n",
    "    return sum/tanks\n",
    "\n",
    "print(gas(5,10,15))\n"
   ]
  },
  {
   "cell_type": "markdown",
   "metadata": {},
   "source": [
    "Ejercicio 2: Trabajo con argumentos de palabra clave"
   ]
  },
  {
   "cell_type": "code",
   "execution_count": 8,
   "metadata": {},
   "outputs": [
    {
     "name": "stdout",
     "output_type": "stream",
     "text": [
      "Pre launch time: 1200\n",
      "Fly time: 1500\n",
      "Destination: Moon\n",
      "Extern tank 80\n",
      "Intern tank: 85\n"
     ]
    }
   ],
   "source": [
    "def inform(prelaunch_time,fly_time,destination,extern_tank,intern_tank):\n",
    "    print(f\"Pre launch time: {prelaunch_time}\\nFly time: {fly_time}\\nDestination: {destination}\\nExtern tank {extern_tank}\\nIntern tank: {intern_tank}\")\n",
    "\n",
    "inform(1200,1500,'Moon',80,85)"
   ]
  },
  {
   "cell_type": "code",
   "execution_count": 14,
   "metadata": {},
   "outputs": [
    {
     "name": "stdout",
     "output_type": "stream",
     "text": [
      "Destination: Mars\n",
      "Time 0: 10\n",
      "Time 1: 20\n",
      "Time 2: 30\n",
      "tank1: 80%\n",
      "tank2: 75%\n",
      "Total fuel capacity: 77.5%\n"
     ]
    }
   ],
   "source": [
    "def final_inform(destination,*minutes,**fuel_reservoirs):\n",
    "    print(f\"Destination: {destination}\")\n",
    "    i=0\n",
    "    for min in minutes:\n",
    "        print(f\"Time {i}: {min}\")\n",
    "        i+=1\n",
    "    fuel=0\n",
    "    for reservoir,remain in fuel_reservoirs.items():\n",
    "        print(f\"{reservoir}: {remain}%\")\n",
    "        fuel=fuel+remain\n",
    "    print(\"Total fuel capacity: {}%\".format(fuel/len(fuel_reservoirs)))\n",
    "\n",
    "final_inform('Mars',10,20,30,tank1=80,tank2=75)"
   ]
  }
 ],
 "metadata": {
  "interpreter": {
   "hash": "51727d6f6de0c9c3b9c6a7d7e737bd0212e227c5fae86936168ed13d26f4b171"
  },
  "kernelspec": {
   "display_name": "Python 3.9.10 64-bit",
   "language": "python",
   "name": "python3"
  },
  "language_info": {
   "codemirror_mode": {
    "name": "ipython",
    "version": 3
   },
   "file_extension": ".py",
   "mimetype": "text/x-python",
   "name": "python",
   "nbconvert_exporter": "python",
   "pygments_lexer": "ipython3",
   "version": "3.9.10"
  },
  "orig_nbformat": 4
 },
 "nbformat": 4,
 "nbformat_minor": 2
}
